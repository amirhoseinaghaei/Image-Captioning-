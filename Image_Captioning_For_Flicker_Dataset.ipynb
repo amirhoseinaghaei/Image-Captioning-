{
  "nbformat": 4,
  "nbformat_minor": 0,
  "metadata": {
    "colab": {
      "provenance": [],
      "authorship_tag": "ABX9TyPBgy8r+xLBZDyPmHQlAcEf",
      "include_colab_link": true
    },
    "kernelspec": {
      "name": "python3",
      "display_name": "Python 3"
    },
    "language_info": {
      "name": "python"
    },
    "accelerator": "GPU",
    "gpuClass": "standard"
  },
  "cells": [
    {
      "cell_type": "markdown",
      "metadata": {
        "id": "view-in-github",
        "colab_type": "text"
      },
      "source": [
        "<a href=\"https://colab.research.google.com/github/amirhoseinaghaei/Image-Captioning-/blob/main/Image_Captioning_For_Flicker_Dataset.ipynb\" target=\"_parent\"><img src=\"https://colab.research.google.com/assets/colab-badge.svg\" alt=\"Open In Colab\"/></a>"
      ]
    },
    {
      "cell_type": "markdown",
      "source": [
        "## Importing libraries"
      ],
      "metadata": {
        "id": "l-2yEzTrr8Da"
      }
    },
    {
      "cell_type": "code",
      "execution_count": 1,
      "metadata": {
        "id": "pOq2kCor96Vg"
      },
      "outputs": [],
      "source": [
        "import os\n",
        "import numpy as np \n",
        "import pickle\n",
        "import tensorflow as tf\n",
        "from tensorflow.keras import models , Sequential\n",
        "from tensorflow.keras.preprocessing.image import load_img, img_to_array\n",
        "from tensorflow.keras.applications.vgg16 import VGG16\n",
        "from tensorflow.keras.models import Model\n",
        "from tqdm import tqdm \n",
        "from tensorflow.keras.preprocessing.text import Tokenizer \n",
        "from tensorflow.keras.preprocessing.sequence import pad_sequences\n",
        "from tensorflow.keras.utils import to_categorical, plot_model\n",
        "from tensorflow.keras.layers import Input, Dense, LSTM, Embedding, Dropout, add, Conv2D , MaxPooling2D   , Flatten\n",
        "from matplotlib import pyplot as plt\n",
        "from matplotlib import image as mpimg\n",
        "from sklearn.model_selection import train_test_split \n",
        "from keras.callbacks import ModelCheckpoint , EarlyStopping\n"
      ]
    },
    {
      "cell_type": "markdown",
      "source": [
        "## Getting dataset from google drive"
      ],
      "metadata": {
        "id": "jBFDvuzKsCFf"
      }
    },
    {
      "cell_type": "code",
      "source": [
        "from google.colab import drive \n",
        "drive.mount('/content/gdrive/')\n",
        "BASE_DIR = \"gdrive/MyDrive/Flicker_Dataset\"\n",
        "WORKING_DIR  = \"gdrive/MyDrive/Image_Captioning_Project \""
      ],
      "metadata": {
        "id": "Y5_970VnQSPk",
        "outputId": "2a310857-be26-4972-f976-b8c4b813e48f",
        "colab": {
          "base_uri": "https://localhost:8080/"
        }
      },
      "execution_count": 2,
      "outputs": [
        {
          "output_type": "stream",
          "name": "stdout",
          "text": [
            "Mounted at /content/gdrive/\n"
          ]
        }
      ]
    },
    {
      "cell_type": "markdown",
      "source": [
        "## Load Flicker dataset images "
      ],
      "metadata": {
        "id": "t2fdXDUCNfTF"
      }
    },
    {
      "cell_type": "code",
      "source": [
        "# Loading the flicker-dataset images and extracting featueres\n",
        "from tqdm import tqdm\n",
        "features = {}\n",
        "images = {}\n",
        "img_list = []\n",
        "directory = os.path.join(BASE_DIR, \"Images\")\n",
        "# with open(os.path.join(WORKING_DIR , \"images.pkl\"), \"rb\") as f:\n",
        "#     images = pickle.load(f)\n",
        "for img_name in tqdm(os.listdir(directory)):\n",
        "  image_path = directory  + \"/\" + img_name\n",
        "  image = load_img(image_path , target_size= (224,224))\n",
        "  image = img_to_array(image) \n",
        "  image = image.reshape(1, image.shape[0], image.shape[1], image.shape[2])\n",
        "  # feature = model.predict(image)\n",
        "  # img_list.append(image)\n",
        "  image_id = img_name.split(\".\")[0]\n",
        "  images[image_id] = image\n",
        "  # features[image_id]  = feature\n"
      ],
      "metadata": {
        "id": "htkZiGPqGKe5",
        "outputId": "03581f76-b911-4e68-d718-8fb2f90be42e",
        "colab": {
          "base_uri": "https://localhost:8080/",
          "height": 235
        }
      },
      "execution_count": 8,
      "outputs": [
        {
          "output_type": "error",
          "ename": "KeyboardInterrupt",
          "evalue": "ignored",
          "traceback": [
            "\u001b[0;31m---------------------------------------------------------------------------\u001b[0m",
            "\u001b[0;31mKeyboardInterrupt\u001b[0m                         Traceback (most recent call last)",
            "\u001b[0;32m<ipython-input-8-1b6b32a07c7d>\u001b[0m in \u001b[0;36m<cell line: 9>\u001b[0;34m()\u001b[0m\n\u001b[1;32m      7\u001b[0m \u001b[0;31m# with open(os.path.join(WORKING_DIR , \"images.pkl\"), \"rb\") as f:\u001b[0m\u001b[0;34m\u001b[0m\u001b[0;34m\u001b[0m\u001b[0m\n\u001b[1;32m      8\u001b[0m \u001b[0;31m#     images = pickle.load(f)\u001b[0m\u001b[0;34m\u001b[0m\u001b[0;34m\u001b[0m\u001b[0m\n\u001b[0;32m----> 9\u001b[0;31m \u001b[0;32mfor\u001b[0m \u001b[0mimg_name\u001b[0m \u001b[0;32min\u001b[0m \u001b[0mtqdm\u001b[0m\u001b[0;34m(\u001b[0m\u001b[0mos\u001b[0m\u001b[0;34m.\u001b[0m\u001b[0mlistdir\u001b[0m\u001b[0;34m(\u001b[0m\u001b[0mdirectory\u001b[0m\u001b[0;34m)\u001b[0m\u001b[0;34m)\u001b[0m\u001b[0;34m:\u001b[0m\u001b[0;34m\u001b[0m\u001b[0;34m\u001b[0m\u001b[0m\n\u001b[0m\u001b[1;32m     10\u001b[0m   \u001b[0mimage_path\u001b[0m \u001b[0;34m=\u001b[0m \u001b[0mdirectory\u001b[0m  \u001b[0;34m+\u001b[0m \u001b[0;34m\"/\"\u001b[0m \u001b[0;34m+\u001b[0m \u001b[0mimg_name\u001b[0m\u001b[0;34m\u001b[0m\u001b[0;34m\u001b[0m\u001b[0m\n\u001b[1;32m     11\u001b[0m   \u001b[0mimage\u001b[0m \u001b[0;34m=\u001b[0m \u001b[0mload_img\u001b[0m\u001b[0;34m(\u001b[0m\u001b[0mimage_path\u001b[0m \u001b[0;34m,\u001b[0m \u001b[0mtarget_size\u001b[0m\u001b[0;34m=\u001b[0m \u001b[0;34m(\u001b[0m\u001b[0;36m224\u001b[0m\u001b[0;34m,\u001b[0m\u001b[0;36m224\u001b[0m\u001b[0;34m)\u001b[0m\u001b[0;34m)\u001b[0m\u001b[0;34m\u001b[0m\u001b[0;34m\u001b[0m\u001b[0m\n",
            "\u001b[0;31mKeyboardInterrupt\u001b[0m: "
          ]
        }
      ]
    },
    {
      "cell_type": "code",
      "source": [
        "plt.imshow(images[\"3758787457_1a903ee1e9\"][0])"
      ],
      "metadata": {
        "id": "BUHF-kl75H4L",
        "outputId": "540a4feb-a1ce-4aa8-9695-49db236f6364",
        "colab": {
          "base_uri": "https://localhost:8080/",
          "height": 165
        }
      },
      "execution_count": 1,
      "outputs": [
        {
          "output_type": "error",
          "ename": "NameError",
          "evalue": "ignored",
          "traceback": [
            "\u001b[0;31m---------------------------------------------------------------------------\u001b[0m",
            "\u001b[0;31mNameError\u001b[0m                                 Traceback (most recent call last)",
            "\u001b[0;32m<ipython-input-1-c396dc45668d>\u001b[0m in \u001b[0;36m<cell line: 1>\u001b[0;34m()\u001b[0m\n\u001b[0;32m----> 1\u001b[0;31m \u001b[0mplt\u001b[0m\u001b[0;34m.\u001b[0m\u001b[0mimshow\u001b[0m\u001b[0;34m(\u001b[0m\u001b[0mimages\u001b[0m\u001b[0;34m[\u001b[0m\u001b[0;34m\"3758787457_1a903ee1e9\"\u001b[0m\u001b[0;34m]\u001b[0m\u001b[0;34m[\u001b[0m\u001b[0;36m0\u001b[0m\u001b[0;34m]\u001b[0m\u001b[0;34m)\u001b[0m\u001b[0;34m\u001b[0m\u001b[0;34m\u001b[0m\u001b[0m\n\u001b[0m",
            "\u001b[0;31mNameError\u001b[0m: name 'plt' is not defined"
          ]
        }
      ]
    },
    {
      "cell_type": "code",
      "source": [
        "# create sequences of images, input sequences and output words for an image\n",
        "def create_sequences(tokenizer, max_length, descriptions, photos, vocab_size):\n",
        "  X1, X2, y = list(), list(), list()\n",
        "  # walk through each image identifier\n",
        "  for key, desc_list in descriptions.items():\n",
        "    # walk through each description for the image\n",
        "    for desc in desc_list:\n",
        "      # encode the sequence\n",
        "        seq = tokenizer.texts_to_sequences([desc])[0]\n",
        "        # split one sequence into multiple X,y pairs\n",
        "        for i in range(1, len(seq)):\n",
        "         # split into input and output pair\n",
        "          in_seq, out_seq = seq[:i], seq[i]\n",
        "          # pad input sequence\n",
        "          in_seq = pad_sequences([in_seq], maxlen=max_length)[0]\n",
        "          # encode output sequence\n",
        "          out_seq = to_categorical([out_seq], num_classes=vocab_size)[0]\n",
        "          # store\n",
        "    if key != \"\":\n",
        "      X1.append((photos[key][0]))\n",
        "      X2.append(in_seq)\n",
        "      y.append(out_seq)\n",
        "  return (X1), (X2), (y)"
      ],
      "metadata": {
        "id": "ShXF21Uz1Tgn"
      },
      "execution_count": 4,
      "outputs": []
    },
    {
      "cell_type": "markdown",
      "source": [
        "## Save the extracted Image "
      ],
      "metadata": {
        "id": "t4sp5eQFNdg0"
      }
    },
    {
      "cell_type": "code",
      "source": [
        "# saving features dictionary in pkl file \n",
        "import pickle\n",
        "pickle.dump(images , open(os.path.join(WORKING_DIR , \"images.pkl\"), \"wb\"))"
      ],
      "metadata": {
        "id": "85k5VMHV2ono"
      },
      "execution_count": 5,
      "outputs": []
    },
    {
      "cell_type": "markdown",
      "source": [
        "## Loading Captions for each image"
      ],
      "metadata": {
        "id": "S8g_J__KXEaw"
      }
    },
    {
      "cell_type": "code",
      "source": [
        "from IPython.utils.text import string\n",
        "def load_captions(path):\n",
        "  with open(path, 'r') as f: \n",
        "    next(f)\n",
        "    captions = f.read()\n",
        "  mapping = {}\n",
        "  line = captions.split(\"\\n\")\n",
        "  for i in line:\n",
        "    splitted = i.split(\",\")\n",
        "    if len(line) < 2:\n",
        "      continue\n",
        "    img_id = splitted[0].split(\".\")[0]\n",
        "    # print(splitted[1])\n",
        "    caption = splitted[1:]\n",
        "    caption = \" \".join(caption)\n",
        "    if img_id not in mapping.keys():\n",
        "      mapping[img_id] = []\n",
        "    # print(image_id + \": \" + caption)\n",
        "    mapping[img_id].append(caption)\n",
        "  return mapping\n",
        "descriptions = load_captions(os.path.join(BASE_DIR, \"captions.txt\"))\n",
        "def clean_Descriptions(descriptions):\n",
        "  table = str.maketrans('','',string.punctuation)\n",
        "  for key, value in descriptions.items():\n",
        "    for i in range(len(value)):\n",
        "      text = descriptions[key][i]\n",
        "      text = text.lower()\n",
        "      text = text.translate(str.maketrans('', '', string.punctuation))\n",
        "      text = text.split()\n",
        "      text = [ele for ele in text if len(ele) > 1]\n",
        "      text = [ele for ele in text if (ele).isalpha()]\n",
        "      text = ' '.join(text)\n",
        "      descriptions[key][i] = text\n",
        "  return descriptions\n",
        "descriptions = clean_Descriptions(descriptions)"
      ],
      "metadata": {
        "id": "Ic_Ot9JMYJhm"
      },
      "execution_count": 6,
      "outputs": []
    },
    {
      "cell_type": "markdown",
      "source": [
        "## Finding the vocabulary size of captions"
      ],
      "metadata": {
        "id": "4qAlon7JsZGO"
      }
    },
    {
      "cell_type": "code",
      "source": [
        "def Find_Vocab_Size(descriptions):\n",
        "  Vocabulary = set()\n",
        "  for key in descriptions.keys():\n",
        "    for i in descriptions[key]:\n",
        "      Vocabulary.update(i.split())\n",
        "  return Vocabulary\n",
        "vocab_size = (len(Find_Vocab_Size(descriptions)))"
      ],
      "metadata": {
        "id": "IPxzqAjLsBL1"
      },
      "execution_count": null,
      "outputs": []
    },
    {
      "cell_type": "markdown",
      "source": [
        "## Visualizing 10 images with their captions\n"
      ],
      "metadata": {
        "id": "I3LjdqLNnqsw"
      }
    },
    {
      "cell_type": "code",
      "source": [
        "i = 0 \n",
        "for img_name in tqdm(os.listdir(directory)):\n",
        "  i += 1\n",
        "  image_path = directory + \"/\" + img_name \n",
        "  image = mpimg.imread(image_path)\n",
        "  print(f\"\\nImage : {img_name}\")\n",
        "  plt.imshow(image)\n",
        "  print(f\"{img_name}'s captions are as below:\")\n",
        "  image_id = img_name.split(\".\")[0]\n",
        "  print(mapping[image_id])\n",
        "  if i == 10: \n",
        "    break"
      ],
      "metadata": {
        "id": "dI7cBky4nmou"
      },
      "execution_count": null,
      "outputs": []
    },
    {
      "cell_type": "markdown",
      "source": [
        "## Defining the model"
      ],
      "metadata": {
        "id": "JKjIbfuOq-AI"
      }
    },
    {
      "cell_type": "code",
      "source": [
        "from tensorflow.python.keras.layers.merge import Add\n",
        "from tensorflow.python.ops.gen_array_ops import InplaceAdd\n",
        "from keras.backend import conv2d\n",
        "\n",
        "from keras import optimizers\n",
        "from tensorflow.python.ops.nn_ops import relu\n",
        "def Build_CNN_FeatureExtractor(vocab_size):\n",
        "      input1 = Input(shape=(128,128,3))\n",
        "      conv1 = Conv2D(64, (3, 3), activation= tf.nn.relu, padding=\"same\")(input1)\n",
        "      conv2 = Conv2D(64, (3, 3), activation= tf.nn.relu, padding=\"same\")(conv1)\n",
        "      max1 =  MaxPooling2D((2,2), (2,2))(conv2)\n",
        "      conv3 = Conv2D(128, (3, 3), activation= tf.nn.relu, padding=\"same\")(max1)\n",
        "      conv4 = Conv2D(128, (3, 3), activation= tf.nn.relu, padding=\"same\")(conv3)\n",
        "      max2 =  MaxPooling2D((2,2), (2,2))(conv4)\n",
        "      conv5 = Conv2D(256, (3, 3), activation= tf.nn.relu, padding=\"same\")(max2)\n",
        "      conv6 = Conv2D(256, (3, 3), activation= tf.nn.relu, padding=\"same\")(conv5)\n",
        "      conv7 = Conv2D(256, (3, 3), activation= tf.nn.relu, padding=\"same\")(conv6)\n",
        "      max3 =  MaxPooling2D((2,2), (2,2))(conv7)\n",
        "      conv8 = Conv2D(512, (3, 3), activation= tf.nn.relu, padding=\"same\")(max3)\n",
        "      conv9 = Conv2D(512, (3, 3), activation= tf.nn.relu, padding=\"same\")(conv8)\n",
        "      conv10 = Conv2D(512, (3, 3), activation= tf.nn.relu, padding=\"same\")(conv9)\n",
        "      max4 =  MaxPooling2D((2,2), (2,2))(conv10)\n",
        "      conv11 = Conv2D(512, (3, 3), activation= tf.nn.relu, padding=\"same\")(max4)\n",
        "      conv12 = Conv2D(512, (3, 3), activation= tf.nn.relu, padding=\"same\")(conv11)\n",
        "      conv13 = Conv2D(512, (3, 3), activation= tf.nn.relu, padding=\"same\")(conv12)\n",
        "      max5 =  MaxPooling2D((2,2), (2,2))(conv13)\n",
        "      flatten = Flatten()(max5)\n",
        "      dense1 = Dense(4096, activation = tf.nn.relu)(flatten)\n",
        "      dropout1 = Dropout(0.4)(dense1)\n",
        "      dense2 = Dense(4096)(dropout1)\n",
        "      dense3 = Dense(256)(dense2)\n",
        "      input2 = Input(shape = (32,))\n",
        "      embedding = Embedding(input_dim = vocab_size, output_dim = 256)(input2)\n",
        "      dropout2 = Dropout(0.4)(embedding)\n",
        "      lstm = LSTM(256)(dropout2)\n",
        "      added = add([dense3, lstm])\n",
        "      dense4 = Dense(256 , activation = tf.nn.relu)(added)\n",
        "      output = Dense(vocab_size, activation = tf.nn.softmax)(dense4)\n",
        "      model = Model(inputs = [input1 , input2], outputs = output)\n",
        "      return model\n",
        " \n",
        "vocab_size = 8765\n",
        "model = Build_CNN_FeatureExtractor(vocab_size)\n",
        "optimizer = tf.optimizers.Adam()\n",
        "model.compile(optimizer = optimizer , loss = \"categorical_crossentropy\" , metrics = [\"Accuracy\"] )\n",
        "model.summary()"
      ],
      "metadata": {
        "id": "YD7OsfvsaD10",
        "outputId": "dea715b8-3bed-44f0-f94d-c062733d38d1",
        "colab": {
          "base_uri": "https://localhost:8080/"
        }
      },
      "execution_count": 8,
      "outputs": [
        {
          "output_type": "stream",
          "name": "stdout",
          "text": [
            "Model: \"model_1\"\n",
            "__________________________________________________________________________________________________\n",
            " Layer (type)                   Output Shape         Param #     Connected to                     \n",
            "==================================================================================================\n",
            " input_3 (InputLayer)           [(None, 128, 128, 3  0           []                               \n",
            "                                )]                                                                \n",
            "                                                                                                  \n",
            " conv2d_13 (Conv2D)             (None, 128, 128, 64  1792        ['input_3[0][0]']                \n",
            "                                )                                                                 \n",
            "                                                                                                  \n",
            " conv2d_14 (Conv2D)             (None, 128, 128, 64  36928       ['conv2d_13[0][0]']              \n",
            "                                )                                                                 \n",
            "                                                                                                  \n",
            " max_pooling2d_5 (MaxPooling2D)  (None, 64, 64, 64)  0           ['conv2d_14[0][0]']              \n",
            "                                                                                                  \n",
            " conv2d_15 (Conv2D)             (None, 64, 64, 128)  73856       ['max_pooling2d_5[0][0]']        \n",
            "                                                                                                  \n",
            " conv2d_16 (Conv2D)             (None, 64, 64, 128)  147584      ['conv2d_15[0][0]']              \n",
            "                                                                                                  \n",
            " max_pooling2d_6 (MaxPooling2D)  (None, 32, 32, 128)  0          ['conv2d_16[0][0]']              \n",
            "                                                                                                  \n",
            " conv2d_17 (Conv2D)             (None, 32, 32, 256)  295168      ['max_pooling2d_6[0][0]']        \n",
            "                                                                                                  \n",
            " conv2d_18 (Conv2D)             (None, 32, 32, 256)  590080      ['conv2d_17[0][0]']              \n",
            "                                                                                                  \n",
            " conv2d_19 (Conv2D)             (None, 32, 32, 256)  590080      ['conv2d_18[0][0]']              \n",
            "                                                                                                  \n",
            " max_pooling2d_7 (MaxPooling2D)  (None, 16, 16, 256)  0          ['conv2d_19[0][0]']              \n",
            "                                                                                                  \n",
            " conv2d_20 (Conv2D)             (None, 16, 16, 512)  1180160     ['max_pooling2d_7[0][0]']        \n",
            "                                                                                                  \n",
            " conv2d_21 (Conv2D)             (None, 16, 16, 512)  2359808     ['conv2d_20[0][0]']              \n",
            "                                                                                                  \n",
            " conv2d_22 (Conv2D)             (None, 16, 16, 512)  2359808     ['conv2d_21[0][0]']              \n",
            "                                                                                                  \n",
            " max_pooling2d_8 (MaxPooling2D)  (None, 8, 8, 512)   0           ['conv2d_22[0][0]']              \n",
            "                                                                                                  \n",
            " conv2d_23 (Conv2D)             (None, 8, 8, 512)    2359808     ['max_pooling2d_8[0][0]']        \n",
            "                                                                                                  \n",
            " conv2d_24 (Conv2D)             (None, 8, 8, 512)    2359808     ['conv2d_23[0][0]']              \n",
            "                                                                                                  \n",
            " conv2d_25 (Conv2D)             (None, 8, 8, 512)    2359808     ['conv2d_24[0][0]']              \n",
            "                                                                                                  \n",
            " max_pooling2d_9 (MaxPooling2D)  (None, 4, 4, 512)   0           ['conv2d_25[0][0]']              \n",
            "                                                                                                  \n",
            " flatten_1 (Flatten)            (None, 8192)         0           ['max_pooling2d_9[0][0]']        \n",
            "                                                                                                  \n",
            " dense_5 (Dense)                (None, 4096)         33558528    ['flatten_1[0][0]']              \n",
            "                                                                                                  \n",
            " input_4 (InputLayer)           [(None, 32)]         0           []                               \n",
            "                                                                                                  \n",
            " dropout_2 (Dropout)            (None, 4096)         0           ['dense_5[0][0]']                \n",
            "                                                                                                  \n",
            " embedding_1 (Embedding)        (None, 32, 256)      2243840     ['input_4[0][0]']                \n",
            "                                                                                                  \n",
            " dense_6 (Dense)                (None, 4096)         16781312    ['dropout_2[0][0]']              \n",
            "                                                                                                  \n",
            " dropout_3 (Dropout)            (None, 32, 256)      0           ['embedding_1[0][0]']            \n",
            "                                                                                                  \n",
            " dense_7 (Dense)                (None, 256)          1048832     ['dense_6[0][0]']                \n",
            "                                                                                                  \n",
            " lstm_1 (LSTM)                  (None, 256)          525312      ['dropout_3[0][0]']              \n",
            "                                                                                                  \n",
            " add_1 (Add)                    (None, 256)          0           ['dense_7[0][0]',                \n",
            "                                                                  'lstm_1[0][0]']                 \n",
            "                                                                                                  \n",
            " dense_8 (Dense)                (None, 256)          65792       ['add_1[0][0]']                  \n",
            "                                                                                                  \n",
            " dense_9 (Dense)                (None, 8765)         2252605     ['dense_8[0][0]']                \n",
            "                                                                                                  \n",
            "==================================================================================================\n",
            "Total params: 71,190,909\n",
            "Trainable params: 71,190,909\n",
            "Non-trainable params: 0\n",
            "__________________________________________________________________________________________________\n"
          ]
        }
      ]
    },
    {
      "cell_type": "markdown",
      "source": [
        "## Plotting the model"
      ],
      "metadata": {
        "id": "-DCeXTnhsIbY"
      }
    },
    {
      "cell_type": "code",
      "source": [
        "# fit a tokenizer given caption descriptions\n",
        "def create_tokenizer(descriptions):\n",
        "\tlines = to_lines(descriptions)\n",
        "\ttokenizer = Tokenizer()\n",
        "\ttokenizer.fit_on_texts(lines)\n",
        "\treturn tokenizer\n",
        "\n",
        "# calculate the length of the description with the most words\n",
        "def max_length(descriptions):\n",
        "\tlines = to_lines(descriptions)\n",
        "\treturn max(len(d.split()) for d in lines)\n",
        "# covert a dictionary of clean descriptions to a list of descriptions\n",
        "def to_lines(descriptions):\n",
        "\tall_desc = list()\n",
        "\tfor key in descriptions.keys():\n",
        "\t\t[all_desc.append(d) for d in descriptions[key]]\n",
        "\treturn all_desc\n"
      ],
      "metadata": {
        "id": "fiBGmQrTq3df"
      },
      "execution_count": 45,
      "outputs": []
    },
    {
      "cell_type": "code",
      "source": [
        "tokenizer = create_tokenizer(descriptions)\n",
        "vocab_size = len(tokenizer.word_index) + 1\n",
        "X1, X2, y = create_sequences(tokenizer, max_length(descriptions), descriptions, images, vocab_size + 1)\n"
      ],
      "metadata": {
        "id": "HspyiZFtuIbs"
      },
      "execution_count": 46,
      "outputs": []
    },
    {
      "cell_type": "code",
      "source": [
        "Images , Captions, Outputs = np.array(X1), np.array(X2), np.array(y)"
      ],
      "metadata": {
        "id": "RJ1u21wI4vPy"
      },
      "execution_count": 73,
      "outputs": []
    },
    {
      "cell_type": "code",
      "source": [
        "X_train1 = Images[0:7000]\n",
        "X_train2 = Captions[0:7000]\n",
        "Y_train = Outputs[0:7000]\n",
        "X_test1 = Images[7000:8091]\n",
        "X_test2 = Captions[7000:8091]\n",
        "Y_test = Outputs[7000:8091]\n",
        "X_val1 = X_train1[5000:6000]\n",
        "X_val2 = X_train2[5000:6000]\n",
        "Y_val = Y_train[5000:6000]"
      ],
      "metadata": {
        "id": "zYhCt2Uw2hvQ"
      },
      "execution_count": 48,
      "outputs": []
    },
    {
      "cell_type": "code",
      "source": [
        "filepath = 'model-ep{epoch:03d}-loss{loss:.3f}-val_loss{val_loss:.3f}.h5'\n",
        "checkpoint = ModelCheckpoint(filepath, monitor='val_loss', verbose=1, save_best_only=True, mode='min')\n",
        "early_stop = EarlyStopping(monitor='val_loss', patience=50)\n",
        "\n",
        "# fit model\n",
        "history = model.fit([X_train1, X_train2], Y_train, epochs=35, verbose=1, callbacks=[checkpoint, early_stop], validation_data=([X_val1, X_val2], Y_val))"
      ],
      "metadata": {
        "id": "k0Pc_wn26l0G",
        "outputId": "5a9fd4c7-a926-4390-b9b0-234e366a7677",
        "colab": {
          "base_uri": "https://localhost:8080/",
          "height": 1000
        }
      },
      "execution_count": 49,
      "outputs": [
        {
          "output_type": "stream",
          "name": "stdout",
          "text": [
            "Epoch 1/35\n",
            "219/219 [==============================] - ETA: 0s - loss: 8.6159 - Accuracy: 0.0329\n",
            "Epoch 1: val_loss improved from inf to 6.09662, saving model to model-ep001-loss8.616-val_loss6.097.h5\n",
            "219/219 [==============================] - 29s 93ms/step - loss: 8.6159 - Accuracy: 0.0329 - val_loss: 6.0966 - val_Accuracy: 0.0340\n",
            "Epoch 2/35\n",
            "219/219 [==============================] - ETA: 0s - loss: 6.0391 - Accuracy: 0.0340\n",
            "Epoch 2: val_loss improved from 6.09662 to 5.82918, saving model to model-ep002-loss6.039-val_loss5.829.h5\n",
            "219/219 [==============================] - 17s 78ms/step - loss: 6.0391 - Accuracy: 0.0340 - val_loss: 5.8292 - val_Accuracy: 0.0340\n",
            "Epoch 3/35\n",
            "219/219 [==============================] - ETA: 0s - loss: 5.7822 - Accuracy: 0.0451\n",
            "Epoch 3: val_loss improved from 5.82918 to 5.57737, saving model to model-ep003-loss5.782-val_loss5.577.h5\n",
            "219/219 [==============================] - 17s 77ms/step - loss: 5.7822 - Accuracy: 0.0451 - val_loss: 5.5774 - val_Accuracy: 0.0380\n",
            "Epoch 4/35\n",
            "219/219 [==============================] - ETA: 0s - loss: 5.5212 - Accuracy: 0.0611\n",
            "Epoch 4: val_loss improved from 5.57737 to 5.27619, saving model to model-ep004-loss5.521-val_loss5.276.h5\n",
            "219/219 [==============================] - 17s 76ms/step - loss: 5.5212 - Accuracy: 0.0611 - val_loss: 5.2762 - val_Accuracy: 0.0580\n",
            "Epoch 5/35\n",
            "219/219 [==============================] - ETA: 0s - loss: 5.2766 - Accuracy: 0.0736\n",
            "Epoch 5: val_loss improved from 5.27619 to 5.05871, saving model to model-ep005-loss5.277-val_loss5.059.h5\n",
            "219/219 [==============================] - 16s 73ms/step - loss: 5.2766 - Accuracy: 0.0736 - val_loss: 5.0587 - val_Accuracy: 0.0750\n",
            "Epoch 6/35\n",
            "219/219 [==============================] - ETA: 0s - loss: 5.0307 - Accuracy: 0.0894\n",
            "Epoch 6: val_loss improved from 5.05871 to 4.76038, saving model to model-ep006-loss5.031-val_loss4.760.h5\n",
            "219/219 [==============================] - 16s 73ms/step - loss: 5.0307 - Accuracy: 0.0894 - val_loss: 4.7604 - val_Accuracy: 0.1030\n",
            "Epoch 7/35\n",
            "219/219 [==============================] - ETA: 0s - loss: 4.7702 - Accuracy: 0.1106\n",
            "Epoch 7: val_loss improved from 4.76038 to 4.48942, saving model to model-ep007-loss4.770-val_loss4.489.h5\n",
            "219/219 [==============================] - 16s 74ms/step - loss: 4.7702 - Accuracy: 0.1106 - val_loss: 4.4894 - val_Accuracy: 0.1290\n",
            "Epoch 8/35\n",
            "219/219 [==============================] - ETA: 0s - loss: 4.5164 - Accuracy: 0.1341\n",
            "Epoch 8: val_loss improved from 4.48942 to 4.18262, saving model to model-ep008-loss4.516-val_loss4.183.h5\n",
            "219/219 [==============================] - 16s 74ms/step - loss: 4.5164 - Accuracy: 0.1341 - val_loss: 4.1826 - val_Accuracy: 0.1590\n",
            "Epoch 9/35\n",
            "219/219 [==============================] - ETA: 0s - loss: 4.2618 - Accuracy: 0.1527\n",
            "Epoch 9: val_loss improved from 4.18262 to 3.92861, saving model to model-ep009-loss4.262-val_loss3.929.h5\n",
            "219/219 [==============================] - 16s 74ms/step - loss: 4.2618 - Accuracy: 0.1527 - val_loss: 3.9286 - val_Accuracy: 0.1660\n",
            "Epoch 10/35\n",
            "219/219 [==============================] - ETA: 0s - loss: 4.0021 - Accuracy: 0.1777\n",
            "Epoch 10: val_loss improved from 3.92861 to 3.64700, saving model to model-ep010-loss4.002-val_loss3.647.h5\n",
            "219/219 [==============================] - 16s 74ms/step - loss: 4.0021 - Accuracy: 0.1777 - val_loss: 3.6470 - val_Accuracy: 0.2060\n",
            "Epoch 11/35\n",
            "219/219 [==============================] - ETA: 0s - loss: 3.7376 - Accuracy: 0.2053\n",
            "Epoch 11: val_loss improved from 3.64700 to 3.34836, saving model to model-ep011-loss3.738-val_loss3.348.h5\n",
            "219/219 [==============================] - 16s 73ms/step - loss: 3.7376 - Accuracy: 0.2053 - val_loss: 3.3484 - val_Accuracy: 0.2340\n",
            "Epoch 12/35\n",
            "219/219 [==============================] - ETA: 0s - loss: 3.4905 - Accuracy: 0.2280\n",
            "Epoch 12: val_loss improved from 3.34836 to 3.04731, saving model to model-ep012-loss3.491-val_loss3.047.h5\n",
            "219/219 [==============================] - 16s 74ms/step - loss: 3.4905 - Accuracy: 0.2280 - val_loss: 3.0473 - val_Accuracy: 0.2960\n",
            "Epoch 13/35\n",
            "219/219 [==============================] - ETA: 0s - loss: 3.2393 - Accuracy: 0.2557\n",
            "Epoch 13: val_loss improved from 3.04731 to 2.76483, saving model to model-ep013-loss3.239-val_loss2.765.h5\n",
            "219/219 [==============================] - 17s 76ms/step - loss: 3.2393 - Accuracy: 0.2557 - val_loss: 2.7648 - val_Accuracy: 0.3320\n",
            "Epoch 14/35\n",
            "219/219 [==============================] - ETA: 0s - loss: 2.9854 - Accuracy: 0.2927\n",
            "Epoch 14: val_loss improved from 2.76483 to 2.49291, saving model to model-ep014-loss2.985-val_loss2.493.h5\n",
            "219/219 [==============================] - 16s 74ms/step - loss: 2.9854 - Accuracy: 0.2927 - val_loss: 2.4929 - val_Accuracy: 0.4090\n",
            "Epoch 15/35\n",
            "219/219 [==============================] - ETA: 0s - loss: 2.7479 - Accuracy: 0.3281\n",
            "Epoch 15: val_loss improved from 2.49291 to 2.32501, saving model to model-ep015-loss2.748-val_loss2.325.h5\n",
            "219/219 [==============================] - 16s 74ms/step - loss: 2.7479 - Accuracy: 0.3281 - val_loss: 2.3250 - val_Accuracy: 0.4440\n",
            "Epoch 16/35\n",
            "219/219 [==============================] - ETA: 0s - loss: 2.5049 - Accuracy: 0.3803\n",
            "Epoch 16: val_loss improved from 2.32501 to 2.04522, saving model to model-ep016-loss2.505-val_loss2.045.h5\n",
            "219/219 [==============================] - 16s 74ms/step - loss: 2.5049 - Accuracy: 0.3803 - val_loss: 2.0452 - val_Accuracy: 0.4850\n",
            "Epoch 17/35\n",
            "219/219 [==============================] - ETA: 0s - loss: 2.2867 - Accuracy: 0.4234\n",
            "Epoch 17: val_loss improved from 2.04522 to 1.85185, saving model to model-ep017-loss2.287-val_loss1.852.h5\n",
            "219/219 [==============================] - 16s 73ms/step - loss: 2.2867 - Accuracy: 0.4234 - val_loss: 1.8519 - val_Accuracy: 0.5490\n",
            "Epoch 18/35\n",
            "219/219 [==============================] - ETA: 0s - loss: 2.0843 - Accuracy: 0.4637\n",
            "Epoch 18: val_loss improved from 1.85185 to 1.63241, saving model to model-ep018-loss2.084-val_loss1.632.h5\n",
            "219/219 [==============================] - 16s 73ms/step - loss: 2.0843 - Accuracy: 0.4637 - val_loss: 1.6324 - val_Accuracy: 0.5820\n",
            "Epoch 19/35\n",
            "219/219 [==============================] - ETA: 0s - loss: 1.8953 - Accuracy: 0.5067\n",
            "Epoch 19: val_loss improved from 1.63241 to 1.50093, saving model to model-ep019-loss1.895-val_loss1.501.h5\n",
            "219/219 [==============================] - 16s 74ms/step - loss: 1.8953 - Accuracy: 0.5067 - val_loss: 1.5009 - val_Accuracy: 0.6350\n",
            "Epoch 20/35\n",
            "219/219 [==============================] - ETA: 0s - loss: 1.7214 - Accuracy: 0.5469\n",
            "Epoch 20: val_loss improved from 1.50093 to 1.34726, saving model to model-ep020-loss1.721-val_loss1.347.h5\n",
            "219/219 [==============================] - 16s 74ms/step - loss: 1.7214 - Accuracy: 0.5469 - val_loss: 1.3473 - val_Accuracy: 0.6600\n",
            "Epoch 21/35\n",
            "219/219 [==============================] - ETA: 0s - loss: 1.5624 - Accuracy: 0.5811\n",
            "Epoch 21: val_loss improved from 1.34726 to 1.20393, saving model to model-ep021-loss1.562-val_loss1.204.h5\n",
            "219/219 [==============================] - 16s 74ms/step - loss: 1.5624 - Accuracy: 0.5811 - val_loss: 1.2039 - val_Accuracy: 0.6950\n",
            "Epoch 22/35\n",
            "219/219 [==============================] - ETA: 0s - loss: 1.4190 - Accuracy: 0.6166\n",
            "Epoch 22: val_loss improved from 1.20393 to 1.03853, saving model to model-ep022-loss1.419-val_loss1.039.h5\n",
            "219/219 [==============================] - 16s 73ms/step - loss: 1.4190 - Accuracy: 0.6166 - val_loss: 1.0385 - val_Accuracy: 0.7420\n",
            "Epoch 23/35\n",
            "219/219 [==============================] - ETA: 0s - loss: 1.3042 - Accuracy: 0.6404\n",
            "Epoch 23: val_loss improved from 1.03853 to 0.94151, saving model to model-ep023-loss1.304-val_loss0.942.h5\n",
            "219/219 [==============================] - 16s 73ms/step - loss: 1.3042 - Accuracy: 0.6404 - val_loss: 0.9415 - val_Accuracy: 0.7490\n",
            "Epoch 24/35\n",
            " 19/219 [=>............................] - ETA: 12s - loss: 1.0870 - Accuracy: 0.6974"
          ]
        },
        {
          "output_type": "error",
          "ename": "KeyboardInterrupt",
          "evalue": "ignored",
          "traceback": [
            "\u001b[0;31m---------------------------------------------------------------------------\u001b[0m",
            "\u001b[0;31mKeyboardInterrupt\u001b[0m                         Traceback (most recent call last)",
            "\u001b[0;32m<ipython-input-49-524784540764>\u001b[0m in \u001b[0;36m<cell line: 6>\u001b[0;34m()\u001b[0m\n\u001b[1;32m      4\u001b[0m \u001b[0;34m\u001b[0m\u001b[0m\n\u001b[1;32m      5\u001b[0m \u001b[0;31m# fit model\u001b[0m\u001b[0;34m\u001b[0m\u001b[0;34m\u001b[0m\u001b[0m\n\u001b[0;32m----> 6\u001b[0;31m \u001b[0mhistory\u001b[0m \u001b[0;34m=\u001b[0m \u001b[0mmodel\u001b[0m\u001b[0;34m.\u001b[0m\u001b[0mfit\u001b[0m\u001b[0;34m(\u001b[0m\u001b[0;34m[\u001b[0m\u001b[0mX_train1\u001b[0m\u001b[0;34m,\u001b[0m \u001b[0mX_train2\u001b[0m\u001b[0;34m]\u001b[0m\u001b[0;34m,\u001b[0m \u001b[0mY_train\u001b[0m\u001b[0;34m,\u001b[0m \u001b[0mepochs\u001b[0m\u001b[0;34m=\u001b[0m\u001b[0;36m35\u001b[0m\u001b[0;34m,\u001b[0m \u001b[0mverbose\u001b[0m\u001b[0;34m=\u001b[0m\u001b[0;36m1\u001b[0m\u001b[0;34m,\u001b[0m \u001b[0mcallbacks\u001b[0m\u001b[0;34m=\u001b[0m\u001b[0;34m[\u001b[0m\u001b[0mcheckpoint\u001b[0m\u001b[0;34m,\u001b[0m \u001b[0mearly_stop\u001b[0m\u001b[0;34m]\u001b[0m\u001b[0;34m,\u001b[0m \u001b[0mvalidation_data\u001b[0m\u001b[0;34m=\u001b[0m\u001b[0;34m(\u001b[0m\u001b[0;34m[\u001b[0m\u001b[0mX_val1\u001b[0m\u001b[0;34m,\u001b[0m \u001b[0mX_val2\u001b[0m\u001b[0;34m]\u001b[0m\u001b[0;34m,\u001b[0m \u001b[0mY_val\u001b[0m\u001b[0;34m)\u001b[0m\u001b[0;34m)\u001b[0m\u001b[0;34m\u001b[0m\u001b[0;34m\u001b[0m\u001b[0m\n\u001b[0m",
            "\u001b[0;32m/usr/local/lib/python3.9/dist-packages/keras/utils/traceback_utils.py\u001b[0m in \u001b[0;36merror_handler\u001b[0;34m(*args, **kwargs)\u001b[0m\n\u001b[1;32m     63\u001b[0m         \u001b[0mfiltered_tb\u001b[0m \u001b[0;34m=\u001b[0m \u001b[0;32mNone\u001b[0m\u001b[0;34m\u001b[0m\u001b[0;34m\u001b[0m\u001b[0m\n\u001b[1;32m     64\u001b[0m         \u001b[0;32mtry\u001b[0m\u001b[0;34m:\u001b[0m\u001b[0;34m\u001b[0m\u001b[0;34m\u001b[0m\u001b[0m\n\u001b[0;32m---> 65\u001b[0;31m             \u001b[0;32mreturn\u001b[0m \u001b[0mfn\u001b[0m\u001b[0;34m(\u001b[0m\u001b[0;34m*\u001b[0m\u001b[0margs\u001b[0m\u001b[0;34m,\u001b[0m \u001b[0;34m**\u001b[0m\u001b[0mkwargs\u001b[0m\u001b[0;34m)\u001b[0m\u001b[0;34m\u001b[0m\u001b[0;34m\u001b[0m\u001b[0m\n\u001b[0m\u001b[1;32m     66\u001b[0m         \u001b[0;32mexcept\u001b[0m \u001b[0mException\u001b[0m \u001b[0;32mas\u001b[0m \u001b[0me\u001b[0m\u001b[0;34m:\u001b[0m\u001b[0;34m\u001b[0m\u001b[0;34m\u001b[0m\u001b[0m\n\u001b[1;32m     67\u001b[0m             \u001b[0mfiltered_tb\u001b[0m \u001b[0;34m=\u001b[0m \u001b[0m_process_traceback_frames\u001b[0m\u001b[0;34m(\u001b[0m\u001b[0me\u001b[0m\u001b[0;34m.\u001b[0m\u001b[0m__traceback__\u001b[0m\u001b[0;34m)\u001b[0m\u001b[0;34m\u001b[0m\u001b[0;34m\u001b[0m\u001b[0m\n",
            "\u001b[0;32m/usr/local/lib/python3.9/dist-packages/keras/engine/training.py\u001b[0m in \u001b[0;36mfit\u001b[0;34m(self, x, y, batch_size, epochs, verbose, callbacks, validation_split, validation_data, shuffle, class_weight, sample_weight, initial_epoch, steps_per_epoch, validation_steps, validation_batch_size, validation_freq, max_queue_size, workers, use_multiprocessing)\u001b[0m\n\u001b[1;32m   1654\u001b[0m                             \u001b[0mlogs\u001b[0m \u001b[0;34m=\u001b[0m \u001b[0mtmp_logs\u001b[0m\u001b[0;34m\u001b[0m\u001b[0;34m\u001b[0m\u001b[0m\n\u001b[1;32m   1655\u001b[0m                             \u001b[0mend_step\u001b[0m \u001b[0;34m=\u001b[0m \u001b[0mstep\u001b[0m \u001b[0;34m+\u001b[0m \u001b[0mdata_handler\u001b[0m\u001b[0;34m.\u001b[0m\u001b[0mstep_increment\u001b[0m\u001b[0;34m\u001b[0m\u001b[0;34m\u001b[0m\u001b[0m\n\u001b[0;32m-> 1656\u001b[0;31m                             \u001b[0mcallbacks\u001b[0m\u001b[0;34m.\u001b[0m\u001b[0mon_train_batch_end\u001b[0m\u001b[0;34m(\u001b[0m\u001b[0mend_step\u001b[0m\u001b[0;34m,\u001b[0m \u001b[0mlogs\u001b[0m\u001b[0;34m)\u001b[0m\u001b[0;34m\u001b[0m\u001b[0;34m\u001b[0m\u001b[0m\n\u001b[0m\u001b[1;32m   1657\u001b[0m                             \u001b[0;32mif\u001b[0m \u001b[0mself\u001b[0m\u001b[0;34m.\u001b[0m\u001b[0mstop_training\u001b[0m\u001b[0;34m:\u001b[0m\u001b[0;34m\u001b[0m\u001b[0;34m\u001b[0m\u001b[0m\n\u001b[1;32m   1658\u001b[0m                                 \u001b[0;32mbreak\u001b[0m\u001b[0;34m\u001b[0m\u001b[0;34m\u001b[0m\u001b[0m\n",
            "\u001b[0;32m/usr/local/lib/python3.9/dist-packages/keras/callbacks.py\u001b[0m in \u001b[0;36mon_train_batch_end\u001b[0;34m(self, batch, logs)\u001b[0m\n\u001b[1;32m    474\u001b[0m         \"\"\"\n\u001b[1;32m    475\u001b[0m         \u001b[0;32mif\u001b[0m \u001b[0mself\u001b[0m\u001b[0;34m.\u001b[0m\u001b[0m_should_call_train_batch_hooks\u001b[0m\u001b[0;34m:\u001b[0m\u001b[0;34m\u001b[0m\u001b[0;34m\u001b[0m\u001b[0m\n\u001b[0;32m--> 476\u001b[0;31m             \u001b[0mself\u001b[0m\u001b[0;34m.\u001b[0m\u001b[0m_call_batch_hook\u001b[0m\u001b[0;34m(\u001b[0m\u001b[0mModeKeys\u001b[0m\u001b[0;34m.\u001b[0m\u001b[0mTRAIN\u001b[0m\u001b[0;34m,\u001b[0m \u001b[0;34m\"end\"\u001b[0m\u001b[0;34m,\u001b[0m \u001b[0mbatch\u001b[0m\u001b[0;34m,\u001b[0m \u001b[0mlogs\u001b[0m\u001b[0;34m=\u001b[0m\u001b[0mlogs\u001b[0m\u001b[0;34m)\u001b[0m\u001b[0;34m\u001b[0m\u001b[0;34m\u001b[0m\u001b[0m\n\u001b[0m\u001b[1;32m    477\u001b[0m \u001b[0;34m\u001b[0m\u001b[0m\n\u001b[1;32m    478\u001b[0m     \u001b[0;32mdef\u001b[0m \u001b[0mon_test_batch_begin\u001b[0m\u001b[0;34m(\u001b[0m\u001b[0mself\u001b[0m\u001b[0;34m,\u001b[0m \u001b[0mbatch\u001b[0m\u001b[0;34m,\u001b[0m \u001b[0mlogs\u001b[0m\u001b[0;34m=\u001b[0m\u001b[0;32mNone\u001b[0m\u001b[0;34m)\u001b[0m\u001b[0;34m:\u001b[0m\u001b[0;34m\u001b[0m\u001b[0;34m\u001b[0m\u001b[0m\n",
            "\u001b[0;32m/usr/local/lib/python3.9/dist-packages/keras/callbacks.py\u001b[0m in \u001b[0;36m_call_batch_hook\u001b[0;34m(self, mode, hook, batch, logs)\u001b[0m\n\u001b[1;32m    321\u001b[0m             \u001b[0mself\u001b[0m\u001b[0;34m.\u001b[0m\u001b[0m_call_batch_begin_hook\u001b[0m\u001b[0;34m(\u001b[0m\u001b[0mmode\u001b[0m\u001b[0;34m,\u001b[0m \u001b[0mbatch\u001b[0m\u001b[0;34m,\u001b[0m \u001b[0mlogs\u001b[0m\u001b[0;34m)\u001b[0m\u001b[0;34m\u001b[0m\u001b[0;34m\u001b[0m\u001b[0m\n\u001b[1;32m    322\u001b[0m         \u001b[0;32melif\u001b[0m \u001b[0mhook\u001b[0m \u001b[0;34m==\u001b[0m \u001b[0;34m\"end\"\u001b[0m\u001b[0;34m:\u001b[0m\u001b[0;34m\u001b[0m\u001b[0;34m\u001b[0m\u001b[0m\n\u001b[0;32m--> 323\u001b[0;31m             \u001b[0mself\u001b[0m\u001b[0;34m.\u001b[0m\u001b[0m_call_batch_end_hook\u001b[0m\u001b[0;34m(\u001b[0m\u001b[0mmode\u001b[0m\u001b[0;34m,\u001b[0m \u001b[0mbatch\u001b[0m\u001b[0;34m,\u001b[0m \u001b[0mlogs\u001b[0m\u001b[0;34m)\u001b[0m\u001b[0;34m\u001b[0m\u001b[0;34m\u001b[0m\u001b[0m\n\u001b[0m\u001b[1;32m    324\u001b[0m         \u001b[0;32melse\u001b[0m\u001b[0;34m:\u001b[0m\u001b[0;34m\u001b[0m\u001b[0;34m\u001b[0m\u001b[0m\n\u001b[1;32m    325\u001b[0m             raise ValueError(\n",
            "\u001b[0;32m/usr/local/lib/python3.9/dist-packages/keras/callbacks.py\u001b[0m in \u001b[0;36m_call_batch_end_hook\u001b[0;34m(self, mode, batch, logs)\u001b[0m\n\u001b[1;32m    344\u001b[0m             \u001b[0mself\u001b[0m\u001b[0;34m.\u001b[0m\u001b[0m_batch_times\u001b[0m\u001b[0;34m.\u001b[0m\u001b[0mappend\u001b[0m\u001b[0;34m(\u001b[0m\u001b[0mbatch_time\u001b[0m\u001b[0;34m)\u001b[0m\u001b[0;34m\u001b[0m\u001b[0;34m\u001b[0m\u001b[0m\n\u001b[1;32m    345\u001b[0m \u001b[0;34m\u001b[0m\u001b[0m\n\u001b[0;32m--> 346\u001b[0;31m         \u001b[0mself\u001b[0m\u001b[0;34m.\u001b[0m\u001b[0m_call_batch_hook_helper\u001b[0m\u001b[0;34m(\u001b[0m\u001b[0mhook_name\u001b[0m\u001b[0;34m,\u001b[0m \u001b[0mbatch\u001b[0m\u001b[0;34m,\u001b[0m \u001b[0mlogs\u001b[0m\u001b[0;34m)\u001b[0m\u001b[0;34m\u001b[0m\u001b[0;34m\u001b[0m\u001b[0m\n\u001b[0m\u001b[1;32m    347\u001b[0m \u001b[0;34m\u001b[0m\u001b[0m\n\u001b[1;32m    348\u001b[0m         \u001b[0;32mif\u001b[0m \u001b[0mlen\u001b[0m\u001b[0;34m(\u001b[0m\u001b[0mself\u001b[0m\u001b[0;34m.\u001b[0m\u001b[0m_batch_times\u001b[0m\u001b[0;34m)\u001b[0m \u001b[0;34m>=\u001b[0m \u001b[0mself\u001b[0m\u001b[0;34m.\u001b[0m\u001b[0m_num_batches_for_timing_check\u001b[0m\u001b[0;34m:\u001b[0m\u001b[0;34m\u001b[0m\u001b[0;34m\u001b[0m\u001b[0m\n",
            "\u001b[0;32m/usr/local/lib/python3.9/dist-packages/keras/callbacks.py\u001b[0m in \u001b[0;36m_call_batch_hook_helper\u001b[0;34m(self, hook_name, batch, logs)\u001b[0m\n\u001b[1;32m    392\u001b[0m         \u001b[0;32mfor\u001b[0m \u001b[0mcallback\u001b[0m \u001b[0;32min\u001b[0m \u001b[0mself\u001b[0m\u001b[0;34m.\u001b[0m\u001b[0mcallbacks\u001b[0m\u001b[0;34m:\u001b[0m\u001b[0;34m\u001b[0m\u001b[0;34m\u001b[0m\u001b[0m\n\u001b[1;32m    393\u001b[0m             \u001b[0mhook\u001b[0m \u001b[0;34m=\u001b[0m \u001b[0mgetattr\u001b[0m\u001b[0;34m(\u001b[0m\u001b[0mcallback\u001b[0m\u001b[0;34m,\u001b[0m \u001b[0mhook_name\u001b[0m\u001b[0;34m)\u001b[0m\u001b[0;34m\u001b[0m\u001b[0;34m\u001b[0m\u001b[0m\n\u001b[0;32m--> 394\u001b[0;31m             \u001b[0mhook\u001b[0m\u001b[0;34m(\u001b[0m\u001b[0mbatch\u001b[0m\u001b[0;34m,\u001b[0m \u001b[0mlogs\u001b[0m\u001b[0;34m)\u001b[0m\u001b[0;34m\u001b[0m\u001b[0;34m\u001b[0m\u001b[0m\n\u001b[0m\u001b[1;32m    395\u001b[0m \u001b[0;34m\u001b[0m\u001b[0m\n\u001b[1;32m    396\u001b[0m         \u001b[0;32mif\u001b[0m \u001b[0mself\u001b[0m\u001b[0;34m.\u001b[0m\u001b[0m_check_timing\u001b[0m\u001b[0;34m:\u001b[0m\u001b[0;34m\u001b[0m\u001b[0;34m\u001b[0m\u001b[0m\n",
            "\u001b[0;32m/usr/local/lib/python3.9/dist-packages/keras/callbacks.py\u001b[0m in \u001b[0;36mon_train_batch_end\u001b[0;34m(self, batch, logs)\u001b[0m\n\u001b[1;32m   1092\u001b[0m \u001b[0;34m\u001b[0m\u001b[0m\n\u001b[1;32m   1093\u001b[0m     \u001b[0;32mdef\u001b[0m \u001b[0mon_train_batch_end\u001b[0m\u001b[0;34m(\u001b[0m\u001b[0mself\u001b[0m\u001b[0;34m,\u001b[0m \u001b[0mbatch\u001b[0m\u001b[0;34m,\u001b[0m \u001b[0mlogs\u001b[0m\u001b[0;34m=\u001b[0m\u001b[0;32mNone\u001b[0m\u001b[0;34m)\u001b[0m\u001b[0;34m:\u001b[0m\u001b[0;34m\u001b[0m\u001b[0;34m\u001b[0m\u001b[0m\n\u001b[0;32m-> 1094\u001b[0;31m         \u001b[0mself\u001b[0m\u001b[0;34m.\u001b[0m\u001b[0m_batch_update_progbar\u001b[0m\u001b[0;34m(\u001b[0m\u001b[0mbatch\u001b[0m\u001b[0;34m,\u001b[0m \u001b[0mlogs\u001b[0m\u001b[0;34m)\u001b[0m\u001b[0;34m\u001b[0m\u001b[0;34m\u001b[0m\u001b[0m\n\u001b[0m\u001b[1;32m   1095\u001b[0m \u001b[0;34m\u001b[0m\u001b[0m\n\u001b[1;32m   1096\u001b[0m     \u001b[0;32mdef\u001b[0m \u001b[0mon_test_batch_end\u001b[0m\u001b[0;34m(\u001b[0m\u001b[0mself\u001b[0m\u001b[0;34m,\u001b[0m \u001b[0mbatch\u001b[0m\u001b[0;34m,\u001b[0m \u001b[0mlogs\u001b[0m\u001b[0;34m=\u001b[0m\u001b[0;32mNone\u001b[0m\u001b[0;34m)\u001b[0m\u001b[0;34m:\u001b[0m\u001b[0;34m\u001b[0m\u001b[0;34m\u001b[0m\u001b[0m\n",
            "\u001b[0;32m/usr/local/lib/python3.9/dist-packages/keras/callbacks.py\u001b[0m in \u001b[0;36m_batch_update_progbar\u001b[0;34m(self, batch, logs)\u001b[0m\n\u001b[1;32m   1168\u001b[0m         \u001b[0;32mif\u001b[0m \u001b[0mself\u001b[0m\u001b[0;34m.\u001b[0m\u001b[0mverbose\u001b[0m \u001b[0;34m==\u001b[0m \u001b[0;36m1\u001b[0m\u001b[0;34m:\u001b[0m\u001b[0;34m\u001b[0m\u001b[0;34m\u001b[0m\u001b[0m\n\u001b[1;32m   1169\u001b[0m             \u001b[0;31m# Only block async when verbose = 1.\u001b[0m\u001b[0;34m\u001b[0m\u001b[0;34m\u001b[0m\u001b[0m\n\u001b[0;32m-> 1170\u001b[0;31m             \u001b[0mlogs\u001b[0m \u001b[0;34m=\u001b[0m \u001b[0mtf_utils\u001b[0m\u001b[0;34m.\u001b[0m\u001b[0msync_to_numpy_or_python_type\u001b[0m\u001b[0;34m(\u001b[0m\u001b[0mlogs\u001b[0m\u001b[0;34m)\u001b[0m\u001b[0;34m\u001b[0m\u001b[0;34m\u001b[0m\u001b[0m\n\u001b[0m\u001b[1;32m   1171\u001b[0m             \u001b[0mself\u001b[0m\u001b[0;34m.\u001b[0m\u001b[0mprogbar\u001b[0m\u001b[0;34m.\u001b[0m\u001b[0mupdate\u001b[0m\u001b[0;34m(\u001b[0m\u001b[0mself\u001b[0m\u001b[0;34m.\u001b[0m\u001b[0mseen\u001b[0m\u001b[0;34m,\u001b[0m \u001b[0mlist\u001b[0m\u001b[0;34m(\u001b[0m\u001b[0mlogs\u001b[0m\u001b[0;34m.\u001b[0m\u001b[0mitems\u001b[0m\u001b[0;34m(\u001b[0m\u001b[0;34m)\u001b[0m\u001b[0;34m)\u001b[0m\u001b[0;34m,\u001b[0m \u001b[0mfinalize\u001b[0m\u001b[0;34m=\u001b[0m\u001b[0;32mFalse\u001b[0m\u001b[0;34m)\u001b[0m\u001b[0;34m\u001b[0m\u001b[0;34m\u001b[0m\u001b[0m\n\u001b[1;32m   1172\u001b[0m \u001b[0;34m\u001b[0m\u001b[0m\n",
            "\u001b[0;32m/usr/local/lib/python3.9/dist-packages/keras/utils/tf_utils.py\u001b[0m in \u001b[0;36msync_to_numpy_or_python_type\u001b[0;34m(tensors)\u001b[0m\n\u001b[1;32m    663\u001b[0m         \u001b[0;32mreturn\u001b[0m \u001b[0mt\u001b[0m\u001b[0;34m.\u001b[0m\u001b[0mitem\u001b[0m\u001b[0;34m(\u001b[0m\u001b[0;34m)\u001b[0m \u001b[0;32mif\u001b[0m \u001b[0mnp\u001b[0m\u001b[0;34m.\u001b[0m\u001b[0mndim\u001b[0m\u001b[0;34m(\u001b[0m\u001b[0mt\u001b[0m\u001b[0;34m)\u001b[0m \u001b[0;34m==\u001b[0m \u001b[0;36m0\u001b[0m \u001b[0;32melse\u001b[0m \u001b[0mt\u001b[0m\u001b[0;34m\u001b[0m\u001b[0;34m\u001b[0m\u001b[0m\n\u001b[1;32m    664\u001b[0m \u001b[0;34m\u001b[0m\u001b[0m\n\u001b[0;32m--> 665\u001b[0;31m     \u001b[0;32mreturn\u001b[0m \u001b[0mtf\u001b[0m\u001b[0;34m.\u001b[0m\u001b[0mnest\u001b[0m\u001b[0;34m.\u001b[0m\u001b[0mmap_structure\u001b[0m\u001b[0;34m(\u001b[0m\u001b[0m_to_single_numpy_or_python_type\u001b[0m\u001b[0;34m,\u001b[0m \u001b[0mtensors\u001b[0m\u001b[0;34m)\u001b[0m\u001b[0;34m\u001b[0m\u001b[0;34m\u001b[0m\u001b[0m\n\u001b[0m\u001b[1;32m    666\u001b[0m \u001b[0;34m\u001b[0m\u001b[0m\n\u001b[1;32m    667\u001b[0m \u001b[0;34m\u001b[0m\u001b[0m\n",
            "\u001b[0;32m/usr/local/lib/python3.9/dist-packages/tensorflow/python/util/nest.py\u001b[0m in \u001b[0;36mmap_structure\u001b[0;34m(func, *structure, **kwargs)\u001b[0m\n\u001b[1;32m    915\u001b[0m \u001b[0;34m\u001b[0m\u001b[0m\n\u001b[1;32m    916\u001b[0m   return pack_sequence_as(\n\u001b[0;32m--> 917\u001b[0;31m       \u001b[0mstructure\u001b[0m\u001b[0;34m[\u001b[0m\u001b[0;36m0\u001b[0m\u001b[0;34m]\u001b[0m\u001b[0;34m,\u001b[0m \u001b[0;34m[\u001b[0m\u001b[0mfunc\u001b[0m\u001b[0;34m(\u001b[0m\u001b[0;34m*\u001b[0m\u001b[0mx\u001b[0m\u001b[0;34m)\u001b[0m \u001b[0;32mfor\u001b[0m \u001b[0mx\u001b[0m \u001b[0;32min\u001b[0m \u001b[0mentries\u001b[0m\u001b[0;34m]\u001b[0m\u001b[0;34m,\u001b[0m\u001b[0;34m\u001b[0m\u001b[0;34m\u001b[0m\u001b[0m\n\u001b[0m\u001b[1;32m    918\u001b[0m       expand_composites=expand_composites)\n\u001b[1;32m    919\u001b[0m \u001b[0;34m\u001b[0m\u001b[0m\n",
            "\u001b[0;32m/usr/local/lib/python3.9/dist-packages/tensorflow/python/util/nest.py\u001b[0m in \u001b[0;36m<listcomp>\u001b[0;34m(.0)\u001b[0m\n\u001b[1;32m    915\u001b[0m \u001b[0;34m\u001b[0m\u001b[0m\n\u001b[1;32m    916\u001b[0m   return pack_sequence_as(\n\u001b[0;32m--> 917\u001b[0;31m       \u001b[0mstructure\u001b[0m\u001b[0;34m[\u001b[0m\u001b[0;36m0\u001b[0m\u001b[0;34m]\u001b[0m\u001b[0;34m,\u001b[0m \u001b[0;34m[\u001b[0m\u001b[0mfunc\u001b[0m\u001b[0;34m(\u001b[0m\u001b[0;34m*\u001b[0m\u001b[0mx\u001b[0m\u001b[0;34m)\u001b[0m \u001b[0;32mfor\u001b[0m \u001b[0mx\u001b[0m \u001b[0;32min\u001b[0m \u001b[0mentries\u001b[0m\u001b[0;34m]\u001b[0m\u001b[0;34m,\u001b[0m\u001b[0;34m\u001b[0m\u001b[0;34m\u001b[0m\u001b[0m\n\u001b[0m\u001b[1;32m    918\u001b[0m       expand_composites=expand_composites)\n\u001b[1;32m    919\u001b[0m \u001b[0;34m\u001b[0m\u001b[0m\n",
            "\u001b[0;32m/usr/local/lib/python3.9/dist-packages/keras/utils/tf_utils.py\u001b[0m in \u001b[0;36m_to_single_numpy_or_python_type\u001b[0;34m(t)\u001b[0m\n\u001b[1;32m    656\u001b[0m         \u001b[0;31m# Don't turn ragged or sparse tensors to NumPy.\u001b[0m\u001b[0;34m\u001b[0m\u001b[0;34m\u001b[0m\u001b[0m\n\u001b[1;32m    657\u001b[0m         \u001b[0;32mif\u001b[0m \u001b[0misinstance\u001b[0m\u001b[0;34m(\u001b[0m\u001b[0mt\u001b[0m\u001b[0;34m,\u001b[0m \u001b[0mtf\u001b[0m\u001b[0;34m.\u001b[0m\u001b[0mTensor\u001b[0m\u001b[0;34m)\u001b[0m\u001b[0;34m:\u001b[0m\u001b[0;34m\u001b[0m\u001b[0;34m\u001b[0m\u001b[0m\n\u001b[0;32m--> 658\u001b[0;31m             \u001b[0mt\u001b[0m \u001b[0;34m=\u001b[0m \u001b[0mt\u001b[0m\u001b[0;34m.\u001b[0m\u001b[0mnumpy\u001b[0m\u001b[0;34m(\u001b[0m\u001b[0;34m)\u001b[0m\u001b[0;34m\u001b[0m\u001b[0;34m\u001b[0m\u001b[0m\n\u001b[0m\u001b[1;32m    659\u001b[0m         \u001b[0;31m# Strings, ragged and sparse tensors don't have .item(). Return them\u001b[0m\u001b[0;34m\u001b[0m\u001b[0;34m\u001b[0m\u001b[0m\n\u001b[1;32m    660\u001b[0m         \u001b[0;31m# as-is.\u001b[0m\u001b[0;34m\u001b[0m\u001b[0;34m\u001b[0m\u001b[0m\n",
            "\u001b[0;32m/usr/local/lib/python3.9/dist-packages/tensorflow/python/framework/ops.py\u001b[0m in \u001b[0;36mnumpy\u001b[0;34m(self)\u001b[0m\n\u001b[1;32m   1153\u001b[0m     \"\"\"\n\u001b[1;32m   1154\u001b[0m     \u001b[0;31m# TODO(slebedev): Consider avoiding a copy for non-CPU or remote tensors.\u001b[0m\u001b[0;34m\u001b[0m\u001b[0;34m\u001b[0m\u001b[0m\n\u001b[0;32m-> 1155\u001b[0;31m     \u001b[0mmaybe_arr\u001b[0m \u001b[0;34m=\u001b[0m \u001b[0mself\u001b[0m\u001b[0;34m.\u001b[0m\u001b[0m_numpy\u001b[0m\u001b[0;34m(\u001b[0m\u001b[0;34m)\u001b[0m  \u001b[0;31m# pylint: disable=protected-access\u001b[0m\u001b[0;34m\u001b[0m\u001b[0;34m\u001b[0m\u001b[0m\n\u001b[0m\u001b[1;32m   1156\u001b[0m     \u001b[0;32mreturn\u001b[0m \u001b[0mmaybe_arr\u001b[0m\u001b[0;34m.\u001b[0m\u001b[0mcopy\u001b[0m\u001b[0;34m(\u001b[0m\u001b[0;34m)\u001b[0m \u001b[0;32mif\u001b[0m \u001b[0misinstance\u001b[0m\u001b[0;34m(\u001b[0m\u001b[0mmaybe_arr\u001b[0m\u001b[0;34m,\u001b[0m \u001b[0mnp\u001b[0m\u001b[0;34m.\u001b[0m\u001b[0mndarray\u001b[0m\u001b[0;34m)\u001b[0m \u001b[0;32melse\u001b[0m \u001b[0mmaybe_arr\u001b[0m\u001b[0;34m\u001b[0m\u001b[0;34m\u001b[0m\u001b[0m\n\u001b[1;32m   1157\u001b[0m \u001b[0;34m\u001b[0m\u001b[0m\n",
            "\u001b[0;32m/usr/local/lib/python3.9/dist-packages/tensorflow/python/framework/ops.py\u001b[0m in \u001b[0;36m_numpy\u001b[0;34m(self)\u001b[0m\n\u001b[1;32m   1119\u001b[0m   \u001b[0;32mdef\u001b[0m \u001b[0m_numpy\u001b[0m\u001b[0;34m(\u001b[0m\u001b[0mself\u001b[0m\u001b[0;34m)\u001b[0m\u001b[0;34m:\u001b[0m\u001b[0;34m\u001b[0m\u001b[0;34m\u001b[0m\u001b[0m\n\u001b[1;32m   1120\u001b[0m     \u001b[0;32mtry\u001b[0m\u001b[0;34m:\u001b[0m\u001b[0;34m\u001b[0m\u001b[0;34m\u001b[0m\u001b[0m\n\u001b[0;32m-> 1121\u001b[0;31m       \u001b[0;32mreturn\u001b[0m \u001b[0mself\u001b[0m\u001b[0;34m.\u001b[0m\u001b[0m_numpy_internal\u001b[0m\u001b[0;34m(\u001b[0m\u001b[0;34m)\u001b[0m\u001b[0;34m\u001b[0m\u001b[0;34m\u001b[0m\u001b[0m\n\u001b[0m\u001b[1;32m   1122\u001b[0m     \u001b[0;32mexcept\u001b[0m \u001b[0mcore\u001b[0m\u001b[0;34m.\u001b[0m\u001b[0m_NotOkStatusException\u001b[0m \u001b[0;32mas\u001b[0m \u001b[0me\u001b[0m\u001b[0;34m:\u001b[0m  \u001b[0;31m# pylint: disable=protected-access\u001b[0m\u001b[0;34m\u001b[0m\u001b[0;34m\u001b[0m\u001b[0m\n\u001b[1;32m   1123\u001b[0m       \u001b[0;32mraise\u001b[0m \u001b[0mcore\u001b[0m\u001b[0;34m.\u001b[0m\u001b[0m_status_to_exception\u001b[0m\u001b[0;34m(\u001b[0m\u001b[0me\u001b[0m\u001b[0;34m)\u001b[0m \u001b[0;32mfrom\u001b[0m \u001b[0;32mNone\u001b[0m  \u001b[0;31m# pylint: disable=protected-access\u001b[0m\u001b[0;34m\u001b[0m\u001b[0;34m\u001b[0m\u001b[0m\n",
            "\u001b[0;31mKeyboardInterrupt\u001b[0m: "
          ]
        }
      ]
    },
    {
      "cell_type": "code",
      "source": [
        "_, accuracy = model.evaluate([X_test1,X_test2], Y_test)\n",
        "print(f\"Model accuracy is : {accuracy}\")"
      ],
      "metadata": {
        "id": "XrPO7w4o-y6p",
        "outputId": "9680c208-9655-4a9e-c5ba-71e7a9c2be17",
        "colab": {
          "base_uri": "https://localhost:8080/"
        }
      },
      "execution_count": 84,
      "outputs": [
        {
          "output_type": "stream",
          "name": "stdout",
          "text": [
            "35/35 [==============================] - 1s 22ms/step - loss: 9.6699 - Accuracy: 0.1806\n",
            "Model accuracy is : 0.18056829273700714\n"
          ]
        }
      ]
    },
    {
      "cell_type": "code",
      "source": [
        "res = model.predict([X_test1,X_test2])"
      ],
      "metadata": {
        "id": "TsJiRBWYtahp",
        "outputId": "0e7b0571-58a0-4f5a-fd79-d0752b0c1859",
        "colab": {
          "base_uri": "https://localhost:8080/"
        }
      },
      "execution_count": 86,
      "outputs": [
        {
          "output_type": "stream",
          "name": "stdout",
          "text": [
            "35/35 [==============================] - 1s 16ms/step\n"
          ]
        }
      ]
    },
    {
      "cell_type": "code",
      "source": [
        "def generate_desc(model, tokenizer, photo, max_length):\n",
        " photo = photo[np.newaxis, :, :, :]\n",
        "\n",
        " in_text = \"start\"\n",
        " for i in range(max_length):\n",
        "\n",
        "   sequence = tokenizer.texts_to_sequences([in_text])[0]\n",
        "   sequence = pad_sequences([sequence], maxlen=max_length)\n",
        "   yhat = model.predict([photo,sequence])\n",
        "   yhat = np.argmax(yhat)\n",
        "   word = word_for_id(yhat, tokenizer)\n",
        "   if word is None:\n",
        "     break\n",
        "   in_text += ' ' + word\n",
        "   if word == 'endseq':\n",
        "     break\n",
        " return in_text\n"
      ],
      "metadata": {
        "id": "rLC8_pKxtbPf"
      },
      "execution_count": 190,
      "outputs": []
    },
    {
      "cell_type": "code",
      "source": [
        "\n",
        "def word_for_id(integer, tokenizer):\n",
        "\tfor word, index in tokenizer.word_index.items():\n",
        "\t\tif index == integer:\n",
        "\t\t\treturn word\n",
        "\treturn None\n"
      ],
      "metadata": {
        "id": "Ju1FLYMMtlA_"
      },
      "execution_count": 176,
      "outputs": []
    },
    {
      "cell_type": "code",
      "source": [
        "res = generate_desc(model, tokenizer, X_train1[1000], 32)\n",
        "print(res)"
      ],
      "metadata": {
        "id": "jNS4d_yIuHAQ",
        "outputId": "9fa2c027-8c44-424f-f252-841414cd89bc",
        "colab": {
          "base_uri": "https://localhost:8080/"
        }
      },
      "execution_count": 193,
      "outputs": [
        {
          "output_type": "stream",
          "name": "stdout",
          "text": [
            "1/1 [==============================] - 0s 23ms/step\n",
            "1/1 [==============================] - 0s 24ms/step\n",
            "1/1 [==============================] - 0s 24ms/step\n",
            "1/1 [==============================] - 0s 26ms/step\n",
            "1/1 [==============================] - 0s 25ms/step\n",
            "1/1 [==============================] - 0s 25ms/step\n",
            "1/1 [==============================] - 0s 29ms/step\n",
            "1/1 [==============================] - 0s 23ms/step\n",
            "1/1 [==============================] - 0s 26ms/step\n",
            "1/1 [==============================] - 0s 26ms/step\n",
            "1/1 [==============================] - 0s 25ms/step\n",
            "1/1 [==============================] - 0s 24ms/step\n",
            "1/1 [==============================] - 0s 28ms/step\n",
            "1/1 [==============================] - 0s 23ms/step\n",
            "1/1 [==============================] - 0s 21ms/step\n",
            "1/1 [==============================] - 0s 23ms/step\n",
            "1/1 [==============================] - 0s 25ms/step\n",
            "1/1 [==============================] - 0s 23ms/step\n",
            "1/1 [==============================] - 0s 23ms/step\n",
            "1/1 [==============================] - 0s 23ms/step\n",
            "1/1 [==============================] - 0s 21ms/step\n",
            "1/1 [==============================] - 0s 21ms/step\n",
            "1/1 [==============================] - 0s 24ms/step\n",
            "1/1 [==============================] - 0s 24ms/step\n",
            "1/1 [==============================] - 0s 24ms/step\n",
            "1/1 [==============================] - 0s 25ms/step\n",
            "1/1 [==============================] - 0s 22ms/step\n",
            "1/1 [==============================] - 0s 23ms/step\n",
            "1/1 [==============================] - 0s 21ms/step\n",
            "1/1 [==============================] - 0s 24ms/step\n",
            "1/1 [==============================] - 0s 23ms/step\n",
            "1/1 [==============================] - 0s 25ms/step\n",
            "start bike mural building mural structure outside building building crowd bag glasses underbrush falls her hand lights pole bride prizes fish hose bleachers them him outstretched pole bride headphones gontaga jeans headphones cape\n"
          ]
        }
      ]
    },
    {
      "cell_type": "code",
      "source": [
        "print(res)"
      ],
      "metadata": {
        "id": "Skr1Ynsfvkoh",
        "outputId": "deb075f2-3c75-44d2-fc3f-ef746db65be5",
        "colab": {
          "base_uri": "https://localhost:8080/"
        }
      },
      "execution_count": 187,
      "outputs": [
        {
          "output_type": "stream",
          "name": "stdout",
          "text": [
            "start bike mural building mural structure outside building building crowd bag glasses underbrush falls her hand lights pole bride prizes fish hose bleachers them him outstretched pole bride headphones gontaga jeans headphones cape\n"
          ]
        }
      ]
    },
    {
      "cell_type": "code",
      "source": [
        "_, accuracy = model.evaluate([X_val1,X_val2], Y_val)\n",
        "print(f\"Model accuracy is : {accuracy}\")"
      ],
      "metadata": {
        "id": "CW-VYNdzvw5A",
        "outputId": "96094cd3-5dd0-491b-ffa6-561a49e8c9f9",
        "colab": {
          "base_uri": "https://localhost:8080/"
        }
      },
      "execution_count": 188,
      "outputs": [
        {
          "output_type": "stream",
          "name": "stdout",
          "text": [
            "32/32 [==============================] - 1s 20ms/step - loss: 0.9423 - Accuracy: 0.7410\n",
            "Model accuracy is : 0.7409999966621399\n"
          ]
        }
      ]
    },
    {
      "cell_type": "code",
      "source": [
        "plt.imshow(X_test1[0])"
      ],
      "metadata": {
        "id": "CIKzpSqqv98h",
        "outputId": "0f72baad-455b-4f2d-f68c-d4eea1a7adee",
        "colab": {
          "base_uri": "https://localhost:8080/",
          "height": 487
        }
      },
      "execution_count": 189,
      "outputs": [
        {
          "output_type": "stream",
          "name": "stderr",
          "text": [
            "WARNING:matplotlib.image:Clipping input data to the valid range for imshow with RGB data ([0..1] for floats or [0..255] for integers).\n"
          ]
        },
        {
          "output_type": "execute_result",
          "data": {
            "text/plain": [
              "<matplotlib.image.AxesImage at 0x7fae2c0bc760>"
            ]
          },
          "metadata": {},
          "execution_count": 189
        },
        {
          "output_type": "display_data",
          "data": {
            "text/plain": [
              "<Figure size 640x480 with 1 Axes>"
            ],
            "image/png": "[encoded data removed]"
          },
          "metadata": {}
        }
      ]
    },
    {
      "cell_type": "code",
      "source": [],
      "metadata": {
        "id": "wjX2b_yvxp4H"
      },
      "execution_count": null,
      "outputs": []
    }
  ]
}